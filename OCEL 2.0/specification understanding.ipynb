{
 "cells": [
  {
   "cell_type": "code",
   "execution_count": 1,
   "metadata": {},
   "outputs": [
    {
     "ename": "FileNotFoundError",
     "evalue": "[Errno 2] No such file or directory: 'order-management.json'",
     "output_type": "error",
     "traceback": [
      "\u001b[0;31m---------------------------------------------------------------------------\u001b[0m",
      "\u001b[0;31mFileNotFoundError\u001b[0m                         Traceback (most recent call last)",
      "Cell \u001b[0;32mIn[1], line 5\u001b[0m\n\u001b[1;32m      2\u001b[0m \u001b[38;5;28;01mimport\u001b[39;00m \u001b[38;5;21;01mpandas\u001b[39;00m \u001b[38;5;28;01mas\u001b[39;00m \u001b[38;5;21;01mpd\u001b[39;00m\n\u001b[1;32m      4\u001b[0m \u001b[38;5;66;03m# Load your OCEL 2.0 JSON file\u001b[39;00m\n\u001b[0;32m----> 5\u001b[0m \u001b[38;5;28;01mwith\u001b[39;00m \u001b[38;5;28;43mopen\u001b[39;49m\u001b[43m(\u001b[49m\u001b[38;5;124;43m\"\u001b[39;49m\u001b[38;5;124;43morder-management.json\u001b[39;49m\u001b[38;5;124;43m\"\u001b[39;49m\u001b[43m,\u001b[49m\u001b[43m \u001b[49m\u001b[38;5;124;43m\"\u001b[39;49m\u001b[38;5;124;43mr\u001b[39;49m\u001b[38;5;124;43m\"\u001b[39;49m\u001b[43m)\u001b[49m \u001b[38;5;28;01mas\u001b[39;00m f:\n\u001b[1;32m      6\u001b[0m     ocel20 \u001b[38;5;241m=\u001b[39m json\u001b[38;5;241m.\u001b[39mload(f)\n\u001b[1;32m      8\u001b[0m \u001b[38;5;66;03m# Show top-level structure\u001b[39;00m\n",
      "File \u001b[0;32m~/Library/Python/3.9/lib/python/site-packages/IPython/core/interactiveshell.py:310\u001b[0m, in \u001b[0;36m_modified_open\u001b[0;34m(file, *args, **kwargs)\u001b[0m\n\u001b[1;32m    303\u001b[0m \u001b[38;5;28;01mif\u001b[39;00m file \u001b[38;5;129;01min\u001b[39;00m {\u001b[38;5;241m0\u001b[39m, \u001b[38;5;241m1\u001b[39m, \u001b[38;5;241m2\u001b[39m}:\n\u001b[1;32m    304\u001b[0m     \u001b[38;5;28;01mraise\u001b[39;00m \u001b[38;5;167;01mValueError\u001b[39;00m(\n\u001b[1;32m    305\u001b[0m         \u001b[38;5;124mf\u001b[39m\u001b[38;5;124m\"\u001b[39m\u001b[38;5;124mIPython won\u001b[39m\u001b[38;5;124m'\u001b[39m\u001b[38;5;124mt let you open fd=\u001b[39m\u001b[38;5;132;01m{\u001b[39;00mfile\u001b[38;5;132;01m}\u001b[39;00m\u001b[38;5;124m by default \u001b[39m\u001b[38;5;124m\"\u001b[39m\n\u001b[1;32m    306\u001b[0m         \u001b[38;5;124m\"\u001b[39m\u001b[38;5;124mas it is likely to crash IPython. If you know what you are doing, \u001b[39m\u001b[38;5;124m\"\u001b[39m\n\u001b[1;32m    307\u001b[0m         \u001b[38;5;124m\"\u001b[39m\u001b[38;5;124myou can use builtins\u001b[39m\u001b[38;5;124m'\u001b[39m\u001b[38;5;124m open.\u001b[39m\u001b[38;5;124m\"\u001b[39m\n\u001b[1;32m    308\u001b[0m     )\n\u001b[0;32m--> 310\u001b[0m \u001b[38;5;28;01mreturn\u001b[39;00m \u001b[43mio_open\u001b[49m\u001b[43m(\u001b[49m\u001b[43mfile\u001b[49m\u001b[43m,\u001b[49m\u001b[43m \u001b[49m\u001b[38;5;241;43m*\u001b[39;49m\u001b[43margs\u001b[49m\u001b[43m,\u001b[49m\u001b[43m \u001b[49m\u001b[38;5;241;43m*\u001b[39;49m\u001b[38;5;241;43m*\u001b[39;49m\u001b[43mkwargs\u001b[49m\u001b[43m)\u001b[49m\n",
      "\u001b[0;31mFileNotFoundError\u001b[0m: [Errno 2] No such file or directory: 'order-management.json'"
     ]
    }
   ],
   "source": [
    "import json\n",
    "import pandas as pd\n",
    "\n",
    "# Load your OCEL 2.0 JSON file\n",
    "with open(\"order-management.json\", \"r\") as f:\n",
    "    ocel20 = json.load(f)\n",
    "\n",
    "# Show top-level structure\n",
    "print(\"Top-level keys in log:\", ocel20.keys())\n",
    "\n",
    "# --- Extract main parts ---\n",
    "# Corrected keys based on the output of ocel20.keys()\n",
    "events = ocel20.get(\"events\", [])\n",
    "objects = ocel20.get(\"objects\", [])\n",
    "e2o = ocel20.get(\"ocel:e2o\", []) # Assuming E2O is still under this key if it exists\n",
    "o2o = ocel20.get(\"ocel:o2o\", []) # Assuming O2O is still under this key if it exists\n",
    "\n",
    "# --- Print basic counts ---\n",
    "print(f\"\\nNumber of events: {len(events)}\")\n",
    "print(f\"Number of objects: {len(objects)}\")\n",
    "print(f\"Number of event-to-object relations (E2O): {len(e2o)}\")\n",
    "print(f\"Number of object-to-object relations (O2O): {len(o2o)}\")\n",
    "\n",
    "# --- Preview first 3 events ---\n",
    "print(\"\\nSample Events:\")\n",
    "# Check if events is a list before iterating\n",
    "if isinstance(events, list):\n",
    "    for i, ev in enumerate(events):\n",
    "        print(ev)\n",
    "        if i == 2: break\n",
    "else:\n",
    "    print(\"Events data is not in the expected list format.\")\n",
    "\n",
    "\n",
    "# --- Preview first 3 objects ---\n",
    "print(\"\\nSample Objects:\")\n",
    "# Check if objects is a list before iterating\n",
    "if isinstance(objects, list):\n",
    "    for i, ob in enumerate(objects):\n",
    "        print(ob)\n",
    "        if i == 2: break\n",
    "else:\n",
    "     print(\"Objects data is not in the expected list format.\")\n",
    "\n",
    "# --- Optional: put into DataFrames for easier viewing ---\n",
    "# Adjust DataFrame creation based on the structure of events and objects\n",
    "events_df = pd.DataFrame(events)\n",
    "objects_df = pd.DataFrame(objects)\n",
    "\n",
    "\n",
    "print(\"\\nEvents DataFrame head:\")\n",
    "print(events_df.head())\n",
    "\n",
    "print(\"\\nObjects DataFrame head:\")\n",
    "print(objects_df.head())"
   ]
  }
 ],
 "metadata": {
  "kernelspec": {
   "display_name": "Python 3",
   "language": "python",
   "name": "python3"
  },
  "language_info": {
   "codemirror_mode": {
    "name": "ipython",
    "version": 3
   },
   "file_extension": ".py",
   "mimetype": "text/x-python",
   "name": "python",
   "nbconvert_exporter": "python",
   "pygments_lexer": "ipython3",
   "version": "3.9.6"
  }
 },
 "nbformat": 4,
 "nbformat_minor": 2
}
